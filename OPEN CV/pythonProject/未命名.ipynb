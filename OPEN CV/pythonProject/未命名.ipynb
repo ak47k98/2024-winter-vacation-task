{
 "cells": [
  {
   "cell_type": "code",
   "execution_count": null,
   "id": "2e2a3fc3",
   "metadata": {},
   "outputs": [],
   "source": [
    "import cv2              #导入OpenCV库,opencv读取的格式是BGR\n",
    "import matplotlib.pyplot as plt   #导入`matplotlib`库的`pyplot`模块，用于显示图像\n",
    "import numpy as np      #导入NumPy库\n",
    "%matplotlib inline      #\n",
    "img=cv2.imread('6-1')     #这一行使用OpenCV的`imread`函数读取名为'example.jpg'的图像文件，并将图像数据存储在变量`img`中\n",
    "cv2.imshow(\"img\",img)     #这一行使用OpenCV的`imshow`函数显示图像。第一个参数是窗口名称，第二个参数是图像数据\n",
    "cv2.waitKey(0)           #此行等待按键事件。参数'0'表示它将无限期地等待，直到按下任意键\n",
    "cv2.destroyAllWindows()   #在按下键并退出等待状态后，此行关闭所有OpenCV窗口"
   ]
  }
 ],
 "metadata": {
  "kernelspec": {
   "display_name": "Python 3 (ipykernel)",
   "language": "python",
   "name": "python3"
  },
  "language_info": {
   "codemirror_mode": {
    "name": "ipython",
    "version": 3
   },
   "file_extension": ".py",
   "mimetype": "text/x-python",
   "name": "python",
   "nbconvert_exporter": "python",
   "pygments_lexer": "ipython3",
   "version": "3.11.5"
  }
 },
 "nbformat": 4,
 "nbformat_minor": 5
}
